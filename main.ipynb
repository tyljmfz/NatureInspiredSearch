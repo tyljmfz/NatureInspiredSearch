{
 "cells": [
  {
   "cell_type": "code",
   "execution_count": 1,
   "metadata": {},
   "outputs": [
    {
     "name": "stderr",
     "output_type": "stream",
     "text": [
      "[NbConvertApp] Converting notebook evaluation.ipynb to python\n",
      "[NbConvertApp] Writing 7785 bytes to evaluation.py\n"
     ]
    }
   ],
   "source": [
    "import evaluation as f\n",
    "from sexpdata import *\n",
    "\n",
    "import io\n",
    "import math\n",
    "import fire\n",
    "from pathlib import Path\n",
    "import numpy as np\n",
    "import csv\n",
    "\n",
    "def niso_lab3(question, n, x, expr):\n",
    "    if question == 1:\n",
    "        new_x = [float(i) for i in x.split()];\n",
    "        if n != len(new_x):\n",
    "            return 0;\n",
    "        else:\n",
    "            f.num = new_x;\n",
    "            f.nn = n;\n",
    "            w_l = f.parse_ev(expr);\n",
    "            return w_l;\n",
    "        \n",
    "        \n",
    "def readdata(filepath, n):\n",
    "    with open(filepath, 'r') as f1:\n",
    "        x_data = [row[0:n] for row in csv.reader(f1, delimiter = '\\t')];\n",
    "    with open(filepath, 'r') as f2:\n",
    "        y_data = [row[n] for row in csv.reader(f2, delimiter = '\\t')];\n",
    "    return x_data, y_data;"
   ]
  },
  {
   "cell_type": "code",
   "execution_count": 2,
   "metadata": {},
   "outputs": [
    {
     "name": "stdout",
     "output_type": "stream",
     "text": [
      "2.0\n"
     ]
    }
   ],
   "source": [
    "print(niso_lab3(1, 2, \"1.0 2.0\", \"(max (data 0) (data 1))\" ))"
   ]
  },
  {
   "cell_type": "code",
   "execution_count": 2,
   "metadata": {},
   "outputs": [
    {
     "name": "stderr",
     "output_type": "stream",
     "text": [
      "[NbConvertApp] Converting notebook main.ipynb to python\n",
      "[NbConvertApp] Writing 948 bytes to main.py\n"
     ]
    }
   ],
   "source": [
    "try:\n",
    "    !jupyter nbconvert --to python main.ipynb\n",
    "except:\n",
    "    pass"
   ]
  },
  {
   "cell_type": "code",
   "execution_count": null,
   "metadata": {},
   "outputs": [],
   "source": []
  }
 ],
 "metadata": {
  "kernelspec": {
   "display_name": "Python 3",
   "language": "python",
   "name": "python3"
  },
  "language_info": {
   "codemirror_mode": {
    "name": "ipython",
    "version": 3
   },
   "file_extension": ".py",
   "mimetype": "text/x-python",
   "name": "python",
   "nbconvert_exporter": "python",
   "pygments_lexer": "ipython3",
   "version": "3.7.0"
  }
 },
 "nbformat": 4,
 "nbformat_minor": 2
}
